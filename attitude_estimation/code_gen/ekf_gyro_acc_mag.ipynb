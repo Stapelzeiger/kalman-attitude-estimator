{
 "metadata": {
  "name": "",
  "signature": "sha256:857e6adbf581f8d79d2af57fdd82cee41cb6e96254e0be13fc420d2df1c2e802"
 },
 "nbformat": 3,
 "nbformat_minor": 0,
 "worksheets": [
  {
   "cells": [
    {
     "cell_type": "markdown",
     "metadata": {},
     "source": [
      "## Extended Kalman Filter derivations for a simple attitude estimation model\n",
      "\n",
      "estimates:\n",
      "- attitude (quaternion)\n",
      "\n",
      "based on:\n",
      "- gyro\n",
      "- accelerometer (\"up\" sensor)\n",
      "- magnetometer (\"north\" sensor)\n",
      "\n",
      "model:\n",
      "- direct gyro \"control\" input for state propagation\n",
      "- no acceleration -> only gravity which is used to compensate for gyro drift (measurement input)\n",
      "- magnetometer projected on horizontal plane points north (direction x+)"
     ]
    },
    {
     "cell_type": "code",
     "collapsed": false,
     "input": [
      "from ekf_common import *\n",
      "import sympy as sp\n",
      "sp.init_printing() # use this for fancy Latex rendering\n",
      "from IPython.display import Latex, display"
     ],
     "language": "python",
     "metadata": {},
     "outputs": []
    },
    {
     "cell_type": "code",
     "collapsed": false,
     "input": [
      "delta_t = sp.symbols(\"Delta_t\", real=True)\n",
      "\n",
      "q0, q1, q2, q3 = sp.symbols(\"q0 q1 q2 q3\", real=True)\n",
      "attitude = sp.Matrix([[q0], [q1], [q2], [q3]])\n",
      "\n",
      "gbx, gby, gbz = sp.symbols(\"gbx, gby, gbz\", real=True)\n",
      "gyro_bias = sp.Matrix([[gbx], [gby], [gbz]])\n",
      "\n",
      "x = attitude.col_join(gyro_bias)\n",
      "x = attitude\n",
      "display(\"x\", x)\n",
      "\n",
      "# gyro\n",
      "gx, gy, gz = sp.symbols(\"gx gy gz\", real=True)\n",
      "gyro = sp.Matrix([[gx], [gy], [gz]])\n",
      "u = gyro\n",
      "\n",
      "rate = gyro - gyro_bias\n",
      "rate = gyro\n",
      "display(\"rate\", rate)\n",
      "\n",
      "rate_quat = rate.row_insert(0, sp.Matrix([0]))\n",
      "\n",
      "attitude_dot = 1/2*quatmult(attitude, rate_quat) # quaternion kinemamtics\n",
      "gyro_bias_dot = sp.zeros(3, 1) # constant gyro bias model\n",
      "gyro_bias_dot = - gyro_bias * 0.1\n",
      "\n",
      "x_dot = attitude_dot.col_join(gyro_bias_dot)\n",
      "x_dot = attitude_dot\n",
      "x_dot = sp.simplify(x_dot)\n",
      "\n",
      "display(\"x_dot\", x_dot)\n",
      "\n",
      "f = x_dot * delta_t + x\n",
      "F = f.jacobian(x)\n",
      "\n",
      "display(\"f\", f)\n",
      "display(\"F\", F)\n",
      "\n",
      "\n",
      "expected_meas = sp.Matrix([0, 0, 9.81])\n",
      "h = rotate_by_quaternion(expected_meas, quatconj(attitude))\n",
      "H = h.jacobian(x)\n",
      "\n",
      "display(\"h\", h)\n",
      "display(\"H\", H)"
     ],
     "language": "python",
     "metadata": {},
     "outputs": []
    },
    {
     "cell_type": "code",
     "collapsed": false,
     "input": [
      "import imp, ekf_common\n",
      "imp.reload(ekf_common)\n",
      "c_code = ekf_common.ekf_generate_c_code(f, F, h, H, x, u, [delta_t])\n",
      "print(c_code)"
     ],
     "language": "python",
     "metadata": {},
     "outputs": []
    },
    {
     "cell_type": "code",
     "collapsed": false,
     "input": [
      "north = sp.Matrix([1, 0, 0])\n",
      "r0, r1, r2, r3 = sp.symbols(\"r0 r1 r2 r3\", real=True)\n",
      "ref = sp.Matrix([[r0], [r1], [r2], [r3]])\n",
      "north_vect_in_ref = rotate_by_quaternion(north, quatmult(ref, quatconj(attitude)))\n",
      "h_mag = sp.Matrix([(north_vect_in_ref[1] / north_vect_in_ref[0])])\n",
      "H_mag = h_mag.jacobian(x)\n",
      "ref_subs = list(zip([r0, r1, r2, r3], [q0, q1, q2, q3])) + [(q0**2 + q1**2 + q2**2 + q3**2, 1)]\n",
      "display(ref_subs)\n",
      "display(\"h_mag\", h_mag)\n",
      "display(\"H_mag\", H_mag)\n",
      "h_mag = h_mag.subs(ref_subs)\n",
      "H_mag = H_mag.subs(ref_subs)\n",
      "display(\"h_mag\", h_mag)\n",
      "display(\"H_mag\", H_mag)"
     ],
     "language": "python",
     "metadata": {},
     "outputs": []
    },
    {
     "cell_type": "markdown",
     "metadata": {},
     "source": [
      "north = sp.Matrix([1, 0, 0])\n",
      "north_vect_b = rotate_by_quaternion(north, quatconj(attitude))\n",
      "h_mag = sp.Matrix([north_vect_b[2] / north_vect_b[1]])\n",
      "H_mag = h_mag.jacobian(x)\n",
      "display(\"h_mag\", h_mag)\n",
      "display(\"H_mag\", H_mag)"
     ]
    },
    {
     "cell_type": "code",
     "collapsed": false,
     "input": [
      "c_code = ekf_generate_c_code(f, F, h_mag, H_mag, x, u, [delta_t])\n",
      "print(c_code)"
     ],
     "language": "python",
     "metadata": {},
     "outputs": []
    },
    {
     "cell_type": "code",
     "collapsed": false,
     "input": [
      "c_file = open('ekf_gyro_mag.h', 'w+')\n",
      "c_file.write(c_code)\n",
      "c_file.close()"
     ],
     "language": "python",
     "metadata": {},
     "outputs": []
    },
    {
     "cell_type": "code",
     "collapsed": false,
     "input": [],
     "language": "python",
     "metadata": {},
     "outputs": []
    }
   ],
   "metadata": {}
  }
 ]
}