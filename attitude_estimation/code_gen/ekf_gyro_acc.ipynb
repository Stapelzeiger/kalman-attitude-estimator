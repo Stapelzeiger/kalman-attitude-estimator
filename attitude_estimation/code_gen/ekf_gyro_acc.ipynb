{
 "metadata": {
  "name": "",
  "signature": "sha256:e4f8a0514a43e8cb08614c22f17cdeb2f2c910816d16fe7ffd833cdd8673e671"
 },
 "nbformat": 3,
 "nbformat_minor": 0,
 "worksheets": [
  {
   "cells": [
    {
     "cell_type": "markdown",
     "metadata": {},
     "source": [
      "## Extended Kalman Filter derivations for a simple attitude estimation model\n",
      "\n",
      "estimates:\n",
      "- attitude (quaternion)\n",
      "\n",
      "based on:\n",
      "- gyro\n",
      "- accelerometer (\"up\" sensor)\n",
      "\n",
      "model:\n",
      "- direct gyro \"control\" input for state propagation\n",
      "- no acceleration -> only gravity which is used to compensate for gyro drift (measurement input)\n"
     ]
    },
    {
     "cell_type": "code",
     "collapsed": false,
     "input": [
      "from ekf_common import *\n",
      "import sympy as sp\n",
      "#sp.init_printing() # use this for fancy Latex rendering\n",
      "from IPython.display import Latex, display"
     ],
     "language": "python",
     "metadata": {},
     "outputs": []
    },
    {
     "cell_type": "code",
     "collapsed": false,
     "input": [
      "delta_t = sp.symbols(\"Delta_t\", real=True)\n",
      "\n",
      "q0, q1, q2, q3 = sp.symbols(\"q0 q1 q2 q3\", real=True)\n",
      "attitude = sp.Matrix([[q0], [q1], [q2], [q3]])\n",
      "\n",
      "gbx, gby, gbz = sp.symbols(\"gbx, gby, gbz\", real=True)\n",
      "gyro_bias = sp.Matrix([[gbx], [gby], [gbz]])\n",
      "\n",
      "x = attitude.col_join(gyro_bias)\n",
      "x = attitude\n",
      "display(\"x\", x)\n",
      "\n",
      "# gyro\n",
      "gx, gy, gz = sp.symbols(\"gx gy gz\", real=True)\n",
      "gyro = sp.Matrix([[gx], [gy], [gz]])\n",
      "u = gyro\n",
      "\n",
      "rate = gyro - gyro_bias\n",
      "rate = gyro\n",
      "display(\"rate\", rate)\n",
      "\n",
      "rate_quat = rate.row_insert(0, sp.Matrix([0]))\n",
      "\n",
      "attitude_dot = 1/2*quatmult(attitude, rate_quat) # quaternion kinemamtics\n",
      "gyro_bias_dot = sp.zeros(3, 1) # constant gyro bias model\n",
      "gyro_bias_dot = - gyro_bias * 0.1\n",
      "\n",
      "x_dot = attitude_dot.col_join(gyro_bias_dot)\n",
      "x_dot = attitude_dot\n",
      "x_dot = sp.simplify(x_dot)\n",
      "\n",
      "display(\"x_dot\", x_dot)\n",
      "\n",
      "f = x_dot * delta_t + x\n",
      "F = f.jacobian(x)\n",
      "\n",
      "display(\"f\", f)\n",
      "display(\"F\", F)\n",
      "\n",
      "\n",
      "expected_meas = sp.Matrix([0, 0, 9.81])\n",
      "h = rotate_by_quaternion(expected_meas, quatconj(attitude))\n",
      "H = h.jacobian(x)\n",
      "\n",
      "display(\"h\", h)\n",
      "display(\"H\", H)"
     ],
     "language": "python",
     "metadata": {},
     "outputs": []
    },
    {
     "cell_type": "code",
     "collapsed": false,
     "input": [
      "import imp, ekf_common\n",
      "imp.reload(ekf_common)\n",
      "c_code = ekf_common.ekf_generate_c_code(f, F, h, H, x, u, [delta_t])\n",
      "print(c_code)"
     ],
     "language": "python",
     "metadata": {},
     "outputs": []
    },
    {
     "cell_type": "code",
     "collapsed": false,
     "input": [
      "c_file = open('ekf_gyro_acc.h', 'w+')\n",
      "c_file.write(c_code)\n",
      "c_file.close()"
     ],
     "language": "python",
     "metadata": {},
     "outputs": []
    },
    {
     "cell_type": "code",
     "collapsed": false,
     "input": [],
     "language": "python",
     "metadata": {},
     "outputs": []
    }
   ],
   "metadata": {}
  }
 ]
}